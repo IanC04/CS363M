{
 "cells": [
  {
   "cell_type": "markdown",
   "metadata": {},
   "source": [
    "#### This assignment may be worked individually or in pairs. Enter your name/s here:\n",
    "    "
   ]
  },
  {
   "cell_type": "code",
   "execution_count": 1,
   "metadata": {
    "collapsed": true
   },
   "outputs": [],
   "source": [
    "#names here Ian Chen"
   ]
  },
  {
   "cell_type": "markdown",
   "metadata": {
    "collapsed": true
   },
   "source": [
    "# Assignment 2: Decision Trees\n",
    "\n",
    "In this assignment we'll implement the Decision Tree algorithm to classify patients as either having or not having diabetic retinopathy. For this task we'll be using the Diabetic Retinopathy data set, which contains features from the Messidor image set to predict whether an image contains signs of diabetic retinopathy or not. This dataset has `1150` records and `20` attributes (some categorical, some continuous). You can find additional details about the dataset [here](http://archive.ics.uci.edu/ml/datasets/Diabetic+Retinopathy+Debrecen+Data+Set)."
   ]
  },
  {
   "cell_type": "markdown",
   "metadata": {},
   "source": [
    "Attribute Information:\n",
    "\n",
    "0) The binary result of quality assessment. 0 = bad quality 1 = sufficient quality.\n",
    "\n",
    "1) The binary result of pre-screening, where 1 indicates severe retinal abnormality and 0 its lack. \n",
    "\n",
    "2-7) The results of MA detection. Each feature value stand for the number of MAs found at the confidence levels alpha = 0.5, . . . , 1, respectively. \n",
    "\n",
    "8-15) contain the same information as 2-7) for exudates. However, as exudates are represented by a set of points rather than the number of pixels constructing the lesions, these features are normalized by dividing the \n",
    "number of lesions with the diameter of the ROI to compensate different image sizes. \n",
    "\n",
    "16) The euclidean distance of the center of the macula and the center of the optic disc to provide important information regarding the patient's condition. This feature is also normalized with the diameter of the ROI.\n",
    "\n",
    "17) The diameter of the optic disc. \n",
    "\n",
    "18) The binary result of the AM/FM-based classification.\n",
    "\n",
    "19) Class label. 1 = contains signs of Diabetic Retinopathy, 0 = no signs of Diabetic Retinopathy."
   ]
  },
  {
   "cell_type": "markdown",
   "metadata": {},
   "source": [
    "#### Implementation: \n",
    "The function prototypes are given to you, please don't change those. You can add additional helper functions if needed. \n",
    "\n",
    "*Suggestion:* The dataset is substantially big, for the purpose of easy debugging, work with a subset of the data and test your decision tree implementation on that.\n",
    "\n",
    "#### Notes:\n",
    "Parts of this assignment will be **autograded** so a couple of caveats :-\n",
    "- Entropy is calculated using log with base 2, `math.log2(x)`.\n",
    "- For continuous features ensure that the threshold value lies exactly between 2 values. For example, if for feature 2 the best split occurs between 10 and 15 then the threshold value will be set as 12.5. For binary features [0/1] the threshold value will be 0.5.\n",
    "- All values < `thresh_val` go to the left child and all values >= `thresh_val` go to the right child."
   ]
  },
  {
   "cell_type": "code",
   "execution_count": 2,
   "metadata": {
    "collapsed": true
   },
   "outputs": [],
   "source": [
    "# Standard Headers\n",
    "# You are welcome to add additional headers if you wish\n",
    "# EXCEPT for scikit-learn... You may NOT use scikit-learn for this assignment!\n",
    "import pandas as pd\n",
    "import numpy as np\n",
    "from math import log2"
   ]
  },
  {
   "cell_type": "code",
   "execution_count": 3,
   "metadata": {
    "collapsed": true
   },
   "outputs": [],
   "source": [
    "class DataPoint:\n",
    "    def __str__(self):\n",
    "        return \"< \" + str(self.label) + \": \" + str(self.features) + \" >\"\n",
    "\n",
    "    def __init__(self, label, features):\n",
    "        self.label = label  # the classification label of this data point\n",
    "        self.features = features  # a list of feature values for this data point"
   ]
  },
  {
   "cell_type": "markdown",
   "metadata": {},
   "source": [
    "Q1. Read data from a CSV file. Put it into a list of `DataPoints`."
   ]
  },
  {
   "cell_type": "code",
   "execution_count": 4,
   "metadata": {
    "collapsed": true
   },
   "outputs": [],
   "source": [
    "def get_data(filename):\n",
    "    data = []\n",
    "    # your code goes here\n",
    "    df = pd.read_csv(filename, header=None)\n",
    "    features_df = df.iloc[:, :-1]\n",
    "    labels_df = df.iloc[:, -1]\n",
    "\n",
    "    for i in range(len(df)):\n",
    "        features = list(features_df.iloc[i])\n",
    "        label = labels_df.iloc[i]\n",
    "        data.append(DataPoint(label, features))\n",
    "\n",
    "    return data"
   ]
  },
  {
   "cell_type": "code",
   "execution_count": 5,
   "metadata": {
    "collapsed": true
   },
   "outputs": [],
   "source": [
    "class TreeNode:\n",
    "    is_leaf = True  # boolean variable to check if the node is a leaf\n",
    "    feature_idx = None  # index that identifies the feature\n",
    "    thresh_val = None  # threshold value that splits the node\n",
    "    prediction = None  # prediction class (only valid for leaf nodes)\n",
    "    left_child = None  # left TreeNode (all values < thresh_val)\n",
    "    right_child = None  # right TreeNode (all values >= thresh_val)\n",
    "\n",
    "    def printTree(self, level=0):  # for debugging purposes\n",
    "        if self.is_leaf:\n",
    "            print(\"-\" * level + \"Leaf Node:      predicts \" + str(self.prediction))\n",
    "        else:\n",
    "            print(\n",
    "                \"-\" * level\n",
    "                + \"Internal Node:  splits on feature \"\n",
    "                + str(self.feature_idx)\n",
    "                + \" with threshold \"\n",
    "                + str(self.thresh_val)\n",
    "            )\n",
    "            self.left_child.printTree(level + 1)\n",
    "            self.right_child.printTree(level + 1)"
   ]
  },
  {
   "cell_type": "markdown",
   "metadata": {},
   "source": [
    "Q2. Implement the function `make_prediction` that takes the decision tree root and a `DataPoint` instance and returns the prediction label."
   ]
  },
  {
   "cell_type": "code",
   "execution_count": 6,
   "metadata": {
    "collapsed": true
   },
   "outputs": [],
   "source": [
    "def make_prediction(tree_root, data_point):\n",
    "    # your code goes here\n",
    "    if tree_root is None:\n",
    "        return None\n",
    "    while not tree_root.is_leaf:\n",
    "        if data_point.features[tree_root.feature_idx] < tree_root.thresh_val:\n",
    "            tree_root = tree_root.left_child\n",
    "        else:\n",
    "            tree_root = tree_root.right_child\n",
    "\n",
    "    return tree_root.prediction"
   ]
  },
  {
   "cell_type": "markdown",
   "metadata": {},
   "source": [
    "Q3. Implement the function `split_dataset` given an input data set, a `feature_idx` and the `threshold` for the feature. `left_split` will have all values < `threshold` and `right_split` will have all values >= `threshold`."
   ]
  },
  {
   "cell_type": "code",
   "execution_count": 7,
   "metadata": {
    "collapsed": true
   },
   "outputs": [],
   "source": [
    "def split_dataset(data, feature_idx, threshold):\n",
    "    left_split = []\n",
    "    right_split = []\n",
    "    # your code goes here\n",
    "    for dp in data:\n",
    "        if dp.features[feature_idx] < threshold:\n",
    "            left_split.append(dp)\n",
    "        else:\n",
    "            right_split.append(dp)\n",
    "    return (left_split, right_split)"
   ]
  },
  {
   "cell_type": "markdown",
   "metadata": {},
   "source": [
    "Q4. Implement the function `calc_entropy` to return the entropy of the input dataset."
   ]
  },
  {
   "cell_type": "code",
   "execution_count": 8,
   "metadata": {
    "collapsed": true
   },
   "outputs": [],
   "source": [
    "def calc_entropy(data):\n",
    "    entropy = 0.0\n",
    "    # your code goes here\n",
    "    # Bin the different class labels, list is twice as fast as dictionary\n",
    "    labels = [0, 0]\n",
    "    for l in data:\n",
    "        labels[l.label] += 1\n",
    "    # Calculate entropy using \\sum_{i=1}^{c}-p_{i}\\log_{2}p_{i}\n",
    "    for l in range(len(labels)):\n",
    "        p = labels[l] / len(data)\n",
    "        if p != 0:\n",
    "            entropy += -p * log2(p)\n",
    "    return entropy"
   ]
  },
  {
   "cell_type": "markdown",
   "metadata": {},
   "source": [
    "Q5. Implement the function `calc_best_threshold` which returns the best information gain and the corresponding threshold value for one feature at `feature_idx`."
   ]
  },
  {
   "cell_type": "code",
   "execution_count": 9,
   "metadata": {
    "collapsed": true
   },
   "outputs": [],
   "source": [
    "def calc_best_threshold(data, feature_idx):\n",
    "    best_info_gain = 0.0\n",
    "    best_thresh = None\n",
    "    # your code goes here\n",
    "    data = sorted(data, key=lambda dp: dp.features[feature_idx])\n",
    "    parent_entropy = calc_entropy(data)\n",
    "\n",
    "    lowest_entropy = parent_entropy\n",
    "    best_thresh, prev_feature_val = None, data[0].features[feature_idx]\n",
    "    for i, dp in enumerate(data):\n",
    "        feature_val = dp.features[feature_idx]\n",
    "        if feature_val == prev_feature_val:\n",
    "            continue\n",
    "        prev_feature_val = feature_val\n",
    "        # Can use optimization to skip same feature values\n",
    "        left_entropy = calc_entropy(data[:i])\n",
    "        right_entropy = calc_entropy(data[i:])\n",
    "        left_ratio = i / len(data)\n",
    "        right_ratio = (len(data) - i) / len(data)\n",
    "        total_entropy = left_ratio * left_entropy + right_ratio * right_entropy\n",
    "        if total_entropy < lowest_entropy:\n",
    "            lowest_entropy = total_entropy\n",
    "            left_thresh = data[i - 1].features[feature_idx]\n",
    "            right_thresh = data[i].features[feature_idx]\n",
    "            best_thresh = (left_thresh + right_thresh) / 2\n",
    "    best_info_gain = parent_entropy - lowest_entropy\n",
    "    return (best_info_gain, best_thresh)"
   ]
  },
  {
   "cell_type": "markdown",
   "metadata": {},
   "source": [
    "Q6. Implement the function `identify_best_split` which returns the best feature to split on for an input dataset, and also returns the corresponding threshold value."
   ]
  },
  {
   "cell_type": "code",
   "execution_count": 10,
   "metadata": {
    "collapsed": true
   },
   "outputs": [],
   "source": [
    "def identify_best_split(data):\n",
    "    if len(data) < 2:\n",
    "        return (None, None)\n",
    "    best_feature = None\n",
    "    best_thresh = None\n",
    "    # your code goes here\n",
    "    best_gain = 0\n",
    "    for f in range(len(data[0].features)):\n",
    "        gain, thresh = calc_best_threshold(data, f)\n",
    "        if gain > best_gain:\n",
    "            best_feature = f\n",
    "            best_thresh = thresh\n",
    "            best_gain = gain\n",
    "    return (best_feature, best_thresh)"
   ]
  },
  {
   "cell_type": "markdown",
   "metadata": {},
   "source": [
    "Q7. Implement the function `create_leaf_node` which returns a `TreeNode` with `is_leaf=True` and `prediction` set to whichever classification occurs most in the dataset at this node. If there is a tie, choose classification label 1 (has disease). "
   ]
  },
  {
   "cell_type": "code",
   "execution_count": 11,
   "metadata": {
    "collapsed": true
   },
   "outputs": [],
   "source": [
    "def create_leaf_node(data):\n",
    "    # your code goes here\n",
    "    total_no = sum(dp.label == 0 for dp in data)\n",
    "    total_yes = len(data) - total_no\n",
    "    predicted_label = 1 if total_yes >= total_no else 0\n",
    "    leaf = TreeNode()\n",
    "    leaf.is_leaf = True\n",
    "    leaf.prediction = predicted_label\n",
    "    return leaf"
   ]
  },
  {
   "cell_type": "markdown",
   "metadata": {},
   "source": [
    "Q8. Implement the `create_decision_tree` function. `max_levels` denotes the maximum height of the tree (for example if `max_levels = 1` then the decision tree will only contain the leaf node at the root). [Hint: this is where the recursion happens.]"
   ]
  },
  {
   "cell_type": "code",
   "execution_count": 12,
   "metadata": {
    "collapsed": true
   },
   "outputs": [],
   "source": [
    "def create_decision_tree(data, max_levels):\n",
    "    # your code goes here\n",
    "    feature, threshold = identify_best_split(data)\n",
    "    # print(f\"feature: {feature}, threshold: {threshold}\")\n",
    "    if (max_levels == 1 or feature is None or threshold is None):\n",
    "        return create_leaf_node(data)\n",
    "    \n",
    "    node = TreeNode()\n",
    "    node.is_leaf = False\n",
    "    node.feature_idx = feature\n",
    "    node.thresh_val = threshold\n",
    "    left_data, right_data = split_dataset(data, feature, threshold)\n",
    "    node.left_child = create_decision_tree(left_data, max_levels - 1)\n",
    "    node.right_child = create_decision_tree(right_data, max_levels - 1)\n",
    "    return node"
   ]
  },
  {
   "cell_type": "markdown",
   "metadata": {},
   "source": [
    "Q9. Given a test set, the function `calc_accuracy` returns the accuracy of the classifier. You'll use the `make_prediction` function for this."
   ]
  },
  {
   "cell_type": "code",
   "execution_count": 13,
   "metadata": {
    "collapsed": true
   },
   "outputs": [],
   "source": [
    "def calc_accuracy(tree_root, data):\n",
    "    # your code goes here\n",
    "    correct, incorrect = 0, 0\n",
    "    for row in data:\n",
    "        prediction = make_prediction(tree_root, row)\n",
    "        if prediction == row.label:\n",
    "            correct += 1\n",
    "        else:\n",
    "            incorrect += 1\n",
    "    return correct / (correct + incorrect)"
   ]
  },
  {
   "cell_type": "markdown",
   "metadata": {},
   "source": [
    "Q10. Keeping the `max_levels` parameter as 10, use 5-fold cross validation to measure the accuracy of the model. Print the accuracy of the model."
   ]
  },
  {
   "cell_type": "code",
   "execution_count": 14,
   "metadata": {
    "collapsed": true,
    "scrolled": true
   },
   "outputs": [
    {
     "name": "stdout",
     "output_type": "stream",
     "text": [
      "Training set size: 920\n",
      "Test set size    : 230\n",
      "Time taken: 1.5740845203399658\n",
      "The accuracy on the test set is  63.91304347826087\n",
      "Training set size: 920\n",
      "Test set size    : 230\n",
      "Time taken: 1.4541335105895996\n",
      "The accuracy on the test set is  63.04347826086957\n",
      "Training set size: 920\n",
      "Test set size    : 230\n",
      "Time taken: 1.4368321895599365\n",
      "The accuracy on the test set is  66.95652173913044\n",
      "Training set size: 920\n",
      "Test set size    : 230\n",
      "Time taken: 1.459275484085083\n",
      "The accuracy on the test set is  63.91304347826087\n",
      "Training set size: 920\n",
      "Test set size    : 230\n",
      "Time taken: 1.4198172092437744\n",
      "The accuracy on the test set is  64.34782608695652\n",
      "The average accuracy is  64.43478260869566\n"
     ]
    }
   ],
   "source": [
    "# edit the code here - this is just a sample to get you started\n",
    "import time\n",
    "\n",
    "d = get_data(\"messidor_features.txt\")\n",
    "\n",
    "k = 5\n",
    "accuracies = []\n",
    "for i in range(k):\n",
    "    # partition data into train_set and test_set\n",
    "    train_set = d[0 : int(len(d) * i / 5)] + d[int(len(d) * (i + 1) / k) :]\n",
    "    test_set = d[int(len(d) * i / k) : int(len(d) * (i + 1) / k)]\n",
    "\n",
    "    print(\"Training set size:\", len(train_set))\n",
    "    print(\"Test set size    :\", len(test_set))\n",
    "\n",
    "    # the timer is just for fun! you will NOT be graded on runtime\n",
    "    start = time.time()\n",
    "\n",
    "    # create the decision tree\n",
    "    tree = create_decision_tree(train_set, 10)\n",
    "\n",
    "    end = time.time()\n",
    "    print(\"Time taken:\", end - start)\n",
    "\n",
    "    # calculate the accuracy of the tree\n",
    "    accuracy = calc_accuracy(tree, test_set)\n",
    "    print(\"The accuracy on the test set is \", str(accuracy * 100.0))\n",
    "    # tree.printTree()\n",
    "    accuracies.append(accuracy)\n",
    "\n",
    "print(\"The average accuracy is \", str(sum(accuracies) / k * 100.0))\n",
    "\n",
    "# Arbitrary depth\n",
    "tree = create_decision_tree(d, 10)"
   ]
  }
 ],
 "metadata": {
  "kernelspec": {
   "display_name": "Python 3 (ipykernel)",
   "language": "python",
   "name": "python3"
  },
  "language_info": {
   "codemirror_mode": {
    "name": "ipython",
    "version": 3
   },
   "file_extension": ".py",
   "mimetype": "text/x-python",
   "name": "python",
   "nbconvert_exporter": "python",
   "pygments_lexer": "ipython3",
   "version": "3.11.5"
  }
 },
 "nbformat": 4,
 "nbformat_minor": 2
}
