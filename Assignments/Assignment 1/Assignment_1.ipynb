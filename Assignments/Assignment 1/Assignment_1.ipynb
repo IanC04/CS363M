{
 "cells": [
  {
   "cell_type": "code",
   "execution_count": 1,
   "metadata": {},
   "outputs": [],
   "source": [
    "# Enter your name here: Ian Chen"
   ]
  },
  {
   "cell_type": "code",
   "execution_count": 2,
   "metadata": {},
   "outputs": [
    {
     "data": {
      "text/plain": [
       "'2.0.3'"
      ]
     },
     "execution_count": 2,
     "metadata": {},
     "output_type": "execute_result"
    }
   ],
   "source": [
    "# Standard Headers\n",
    "# You may add additional headers here if needed\n",
    "import pandas as pd\n",
    "import matplotlib.pyplot as plt\n",
    "from sklearn.preprocessing import StandardScaler\n",
    "from sklearn.decomposition import PCA\n",
    "\n",
    "# Enable inline mode for matplotlib so that Jupyter displays graphs\n",
    "%matplotlib inline\n",
    "\n",
    "# print your pandas version\n",
    "pd.__version__ "
   ]
  },
  {
   "cell_type": "markdown",
   "metadata": {},
   "source": [
    "# Assignment 1: Data Preprocessing"
   ]
  },
  {
   "cell_type": "markdown",
   "metadata": {},
   "source": [
    "## Part 1: Data Cleaning, Exploration, and Feature Engineering\n",
    "\n",
    "For this part of the assignment you'll be using the 1994 Adult Census Income dataset (`adult.csv`) collected by Ronny Kohavi and Barry Becker. It contains 32,561 records with 14 features."
   ]
  },
  {
   "cell_type": "markdown",
   "metadata": {},
   "source": [
    "Q1. Read the dataset from `adult.csv` into a Pandas dataframe. You can find more on reading CSV (Comma Separated Values) data as a Pandas dataframe [here](http://pandas.pydata.org/pandas-docs/stable/generated/pandas.read_csv.html).\n",
    "\n",
    "**Important:**\n",
    "* Notice in the csv file that `?` is used to indicate missing values. We want all of the missing values to be represented by NaNs in the dataframe. Make sure that all of the `?` are converted to `NaN` in your dataframe.\n",
    "* Also, set the `skipinitialspace` parameter to `True`. (This strips the spaces after the commas off of the data which will be necessary for things to work correctly later in the assignment!)\n",
    "* Display the head of your dataframe."
   ]
  },
  {
   "cell_type": "code",
   "execution_count": 68,
   "metadata": {},
   "outputs": [
    {
     "data": {
      "text/html": [
       "<div>\n",
       "<style scoped>\n",
       "    .dataframe tbody tr th:only-of-type {\n",
       "        vertical-align: middle;\n",
       "    }\n",
       "\n",
       "    .dataframe tbody tr th {\n",
       "        vertical-align: top;\n",
       "    }\n",
       "\n",
       "    .dataframe thead th {\n",
       "        text-align: right;\n",
       "    }\n",
       "</style>\n",
       "<table border=\"1\" class=\"dataframe\">\n",
       "  <thead>\n",
       "    <tr style=\"text-align: right;\">\n",
       "      <th></th>\n",
       "      <th>age</th>\n",
       "      <th>workclass</th>\n",
       "      <th>education</th>\n",
       "      <th>education-num</th>\n",
       "      <th>marital-status</th>\n",
       "      <th>occupation</th>\n",
       "      <th>relationship</th>\n",
       "      <th>race</th>\n",
       "      <th>sex</th>\n",
       "      <th>capital-gain</th>\n",
       "      <th>capital-loss</th>\n",
       "      <th>hours-per-week</th>\n",
       "      <th>native-country</th>\n",
       "      <th>income</th>\n",
       "    </tr>\n",
       "  </thead>\n",
       "  <tbody>\n",
       "    <tr>\n",
       "      <th>0</th>\n",
       "      <td>39.0</td>\n",
       "      <td>State-gov</td>\n",
       "      <td>Bachelors</td>\n",
       "      <td>13</td>\n",
       "      <td>Never-married</td>\n",
       "      <td>Adm-clerical</td>\n",
       "      <td>Not-in-family</td>\n",
       "      <td>White</td>\n",
       "      <td>Male</td>\n",
       "      <td>2174</td>\n",
       "      <td>0</td>\n",
       "      <td>40</td>\n",
       "      <td>United-States</td>\n",
       "      <td>&lt;=50K</td>\n",
       "    </tr>\n",
       "    <tr>\n",
       "      <th>1</th>\n",
       "      <td>NaN</td>\n",
       "      <td>Self-emp-not-inc</td>\n",
       "      <td>Bachelors</td>\n",
       "      <td>13</td>\n",
       "      <td>Married-civ-spouse</td>\n",
       "      <td>Exec-managerial</td>\n",
       "      <td>Husband</td>\n",
       "      <td>White</td>\n",
       "      <td>Male</td>\n",
       "      <td>0</td>\n",
       "      <td>0</td>\n",
       "      <td>13</td>\n",
       "      <td>United-States</td>\n",
       "      <td>&lt;=50K</td>\n",
       "    </tr>\n",
       "    <tr>\n",
       "      <th>2</th>\n",
       "      <td>38.0</td>\n",
       "      <td>Private</td>\n",
       "      <td>HS-grad</td>\n",
       "      <td>9</td>\n",
       "      <td>Divorced</td>\n",
       "      <td>Handlers-cleaners</td>\n",
       "      <td>Not-in-family</td>\n",
       "      <td>White</td>\n",
       "      <td>Male</td>\n",
       "      <td>0</td>\n",
       "      <td>0</td>\n",
       "      <td>40</td>\n",
       "      <td>United-States</td>\n",
       "      <td>&lt;=50K</td>\n",
       "    </tr>\n",
       "    <tr>\n",
       "      <th>3</th>\n",
       "      <td>53.0</td>\n",
       "      <td>Private</td>\n",
       "      <td>High-school</td>\n",
       "      <td>7</td>\n",
       "      <td>Married-civ-spouse</td>\n",
       "      <td>Handlers-cleaners</td>\n",
       "      <td>Husband</td>\n",
       "      <td>Black</td>\n",
       "      <td>Male</td>\n",
       "      <td>0</td>\n",
       "      <td>0</td>\n",
       "      <td>40</td>\n",
       "      <td>United-States</td>\n",
       "      <td>&lt;=50K</td>\n",
       "    </tr>\n",
       "    <tr>\n",
       "      <th>4</th>\n",
       "      <td>54.0</td>\n",
       "      <td>NaN</td>\n",
       "      <td>Some-college</td>\n",
       "      <td>10</td>\n",
       "      <td>Married-civ-spouse</td>\n",
       "      <td>NaN</td>\n",
       "      <td>Husband</td>\n",
       "      <td>Asian-Pac-Islander</td>\n",
       "      <td>Male</td>\n",
       "      <td>0</td>\n",
       "      <td>0</td>\n",
       "      <td>60</td>\n",
       "      <td>South</td>\n",
       "      <td>&gt;50K</td>\n",
       "    </tr>\n",
       "  </tbody>\n",
       "</table>\n",
       "</div>"
      ],
      "text/plain": [
       "    age         workclass     education  education-num      marital-status  \\\n",
       "0  39.0         State-gov     Bachelors             13       Never-married   \n",
       "1   NaN  Self-emp-not-inc     Bachelors             13  Married-civ-spouse   \n",
       "2  38.0           Private       HS-grad              9            Divorced   \n",
       "3  53.0           Private   High-school              7  Married-civ-spouse   \n",
       "4  54.0               NaN  Some-college             10  Married-civ-spouse   \n",
       "\n",
       "          occupation   relationship                race   sex  capital-gain  \\\n",
       "0       Adm-clerical  Not-in-family               White  Male          2174   \n",
       "1    Exec-managerial        Husband               White  Male             0   \n",
       "2  Handlers-cleaners  Not-in-family               White  Male             0   \n",
       "3  Handlers-cleaners        Husband               Black  Male             0   \n",
       "4                NaN        Husband  Asian-Pac-Islander  Male             0   \n",
       "\n",
       "   capital-loss  hours-per-week native-country income  \n",
       "0             0              40  United-States  <=50K  \n",
       "1             0              13  United-States  <=50K  \n",
       "2             0              40  United-States  <=50K  \n",
       "3             0              40  United-States  <=50K  \n",
       "4             0              60          South   >50K  "
      ]
     },
     "execution_count": 68,
     "metadata": {},
     "output_type": "execute_result"
    }
   ],
   "source": [
    "# your code goes here\n",
    "adult_data = pd.read_csv(\"adult.csv\", skipinitialspace=True, na_values=\"?\")\n",
    "adult_data.head()"
   ]
  },
  {
   "cell_type": "markdown",
   "metadata": {},
   "source": [
    "Q2. Start by looking for missing values. How many missing values are there in this dataset?"
   ]
  },
  {
   "cell_type": "code",
   "execution_count": 5,
   "metadata": {
    "scrolled": true
   },
   "outputs": [
    {
     "name": "stdout",
     "output_type": "stream",
     "text": [
      "age                 28\n",
      "workclass         1836\n",
      "education            0\n",
      "education-num        0\n",
      "marital-status       0\n",
      "occupation        1843\n",
      "relationship         0\n",
      "race                 0\n",
      "sex                  0\n",
      "capital-gain         0\n",
      "capital-loss         0\n",
      "hours-per-week       0\n",
      "native-country     583\n",
      "income               0\n",
      "dtype: int64\n",
      "Total N/A:  4290\n"
     ]
    }
   ],
   "source": [
    "# your code goes here\n",
    "row_na = adult_data.isna().sum()\n",
    "total_na = row_na.sum()\n",
    "print(row_na)\n",
    "print(\"Total N/A: \", total_na)"
   ]
  },
  {
   "cell_type": "markdown",
   "metadata": {},
   "source": [
    "Q3. Clean up some of the missing values. \n",
    "* Drop all of the records from the dataset that are missing `occupation` or `workclass`.\n",
    "* For records missing values in `native-country`, impute those by using a \"forward fill.\" This will fill in the missing value with the same value as the previous record. \n",
    "* For records missing `age`, leave those as-is for now. We will do a similar-case imputation on them later! \n",
    "\n",
    "Print something to show that there are no longer missing values in `workclass`, `occupation`, or `native-country`."
   ]
  },
  {
   "cell_type": "code",
   "execution_count": 12,
   "metadata": {
    "scrolled": true
   },
   "outputs": [
    {
     "data": {
      "text/plain": [
       "age                True\n",
       "workclass         False\n",
       "education         False\n",
       "education-num     False\n",
       "marital-status    False\n",
       "occupation        False\n",
       "relationship      False\n",
       "race              False\n",
       "sex               False\n",
       "capital-gain      False\n",
       "capital-loss      False\n",
       "hours-per-week    False\n",
       "native-country    False\n",
       "income            False\n",
       "dtype: bool"
      ]
     },
     "execution_count": 12,
     "metadata": {},
     "output_type": "execute_result"
    }
   ],
   "source": [
    "# your code goes here\n",
    "adult_data.dropna(subset=[\"occupation\", \"workclass\"], inplace=True)\n",
    "adult_data[\"native-country\"].ffill(inplace=True)\n",
    "# only age still has N/A\n",
    "adult_data.isnull().any(axis=0)"
   ]
  },
  {
   "cell_type": "markdown",
   "metadata": {},
   "source": [
    "Q4. Explore the data:\n",
    "* How is the dataset distributed between people who make <=50K income and those who make >50K income? \n",
    "* How is the dataset distributed between males & females?\n",
    "* Create a plot to show the distribution of the datset by `education`.\n",
    "* Create a plot to show the distribution of the ages in the dataset."
   ]
  },
  {
   "cell_type": "code",
   "execution_count": 55,
   "metadata": {
    "scrolled": true
   },
   "outputs": [
    {
     "data": {
      "image/png": "[encoded data removed]",
      "text/plain": [
       "<Figure size 640x480 with 1 Axes>"
      ]
     },
     "metadata": {},
     "output_type": "display_data"
    },
    {
     "data": {
      "image/png": "[encoded data removed]",
      "text/plain": [
       "<Figure size 640x480 with 1 Axes>"
      ]
     },
     "metadata": {},
     "output_type": "display_data"
    }
   ],
   "source": [
    "# your code goes here\n",
    "income = adult_data[\"income\"].map({\"<=50K\": 0, \">50K\": 1})\n",
    "sex = adult_data[\"sex\"].map({\"Male\" : 0, \"Female\" : 1})\n",
    "plt.bar(adult_data[\"education\"].value_counts().index, adult_data[\"education\"].value_counts().values)\n",
    "plt.xlabel(\"Education\")\n",
    "plt.ylabel(\"Count\")\n",
    "plt.title(\"Education Distribution\")\n",
    "plt.xticks(rotation=90)\n",
    "plt.show()\n",
    "plt.bar(adult_data[\"age\"].value_counts().index, adult_data[\"age\"].value_counts().values)\n",
    "plt.xlabel(\"Age\")\n",
    "plt.ylabel(\"Count\")\n",
    "plt.title(\"Age Distribution\")\n",
    "plt.show()"
   ]
  },
  {
   "cell_type": "markdown",
   "metadata": {},
   "source": [
    "Q5. Create a plot to determine if there are any outliers in the  `capital-gain` column.  \n",
    "Answer as a comment: What values would you consider to be outliers in this column? Explain why."
   ]
  },
  {
   "cell_type": "code",
   "execution_count": 65,
   "metadata": {
    "scrolled": true
   },
   "outputs": [
    {
     "data": {
      "image/png": "[encoded data removed]",
      "text/plain": [
       "<Figure size 640x480 with 1 Axes>"
      ]
     },
     "metadata": {},
     "output_type": "display_data"
    },
    {
     "data": {
      "image/png": "[encoded data removed]",
      "text/plain": [
       "<Figure size 640x480 with 1 Axes>"
      ]
     },
     "metadata": {},
     "output_type": "display_data"
    }
   ],
   "source": [
    "# your code goes here\n",
    "plt.hist(adult_data[\"capital-gain\"], bins=100)\n",
    "plt.xlabel(\"Capital Gain\")\n",
    "plt.ylabel(\"Count\")\n",
    "plt.title(\"Capital Gain Distribution\")\n",
    "plt.show()\n",
    "plt.boxplot(adult_data[\"capital-gain\"], vert=False)\n",
    "plt.title(\"Capital Gain Boxplot\")\n",
    "plt.show()\n",
    "# Any non-zero capital-gain is an outlier, since most of the data is 0"
   ]
  },
  {
   "cell_type": "markdown",
   "metadata": {},
   "source": [
    "Q6. Using the `groupby()` method for dataframes [here](https://pandas.pydata.org/pandas-docs/stable/generated/pandas.DataFrame.groupby.html), group the data by  `marital-status`. \n",
    "\n",
    "Display each marital status along with it's mean age, in sorted order from least to greatest."
   ]
  },
  {
   "cell_type": "code",
   "execution_count": 82,
   "metadata": {
    "scrolled": false
   },
   "outputs": [
    {
     "data": {
      "image/png": "[encoded data removed]",
      "text/plain": [
       "<Figure size 640x480 with 1 Axes>"
      ]
     },
     "metadata": {},
     "output_type": "display_data"
    }
   ],
   "source": [
    "# your code goes here\n",
    "marital_status_age_means = adult_data.groupby(\"marital-status\")[\"age\"].mean()\n",
    "plt.bar(marital_status_age_means.index, marital_status_age_means.values)\n",
    "plt.xlabel(\"Marital Status\")\n",
    "plt.ylabel(\"Average Age\")\n",
    "plt.title(\"Average Age by Marital Status\")\n",
    "plt.xticks(rotation=90)\n",
    "plt.show()"
   ]
  },
  {
   "cell_type": "markdown",
   "metadata": {},
   "source": [
    "Q7. Now fill in those missing age values, using similar case imputation. For each missing age, fill it in with the **median** age of that person's marital-status category. Use **median** rather than mean for this, so that we only use whole numbers for ages. \n",
    "\n",
    "Specifically display the records with row IDs 35, 216, and 1120."
   ]
  },
  {
   "cell_type": "code",
   "execution_count": 92,
   "metadata": {
    "scrolled": true
   },
   "outputs": [
    {
     "data": {
      "text/plain": [
       "age                            25.0\n",
       "workclass                   Private\n",
       "education               High-school\n",
       "education-num                     7\n",
       "marital-status        Never-married\n",
       "occupation        Machine-op-inspct\n",
       "relationship              Unmarried\n",
       "race                          White\n",
       "sex                            Male\n",
       "capital-gain                      0\n",
       "capital-loss                      0\n",
       "hours-per-week                   40\n",
       "native-country          Puerto-Rico\n",
       "income                        <=50K\n",
       "Name: 35, dtype: object"
      ]
     },
     "execution_count": 92,
     "metadata": {},
     "output_type": "execute_result"
    }
   ],
   "source": [
    "# your code goes here=\n",
    "median_series = adult_data.groupby(\"marital-status\")[\"age\"].transform(\"median\")\n",
    "adult_data[\"age\"].fillna(median_series, inplace=True)\n",
    "adult_data.iloc[35]\n",
    "adult_data.iloc[216]\n",
    "adult_data.iloc[1120]\n"
   ]
  },
  {
   "cell_type": "markdown",
   "metadata": {},
   "source": [
    "Q8. Display everyone who is over 90 years old.  "
   ]
  },
  {
   "cell_type": "code",
   "execution_count": 94,
   "metadata": {},
   "outputs": [
    {
     "data": {
      "text/html": [
       "<div>\n",
       "<style scoped>\n",
       "    .dataframe tbody tr th:only-of-type {\n",
       "        vertical-align: middle;\n",
       "    }\n",
       "\n",
       "    .dataframe tbody tr th {\n",
       "        vertical-align: top;\n",
       "    }\n",
       "\n",
       "    .dataframe thead th {\n",
       "        text-align: right;\n",
       "    }\n",
       "</style>\n",
       "<table border=\"1\" class=\"dataframe\">\n",
       "  <thead>\n",
       "    <tr style=\"text-align: right;\">\n",
       "      <th></th>\n",
       "      <th>age</th>\n",
       "      <th>workclass</th>\n",
       "      <th>education</th>\n",
       "      <th>education-num</th>\n",
       "      <th>marital-status</th>\n",
       "      <th>occupation</th>\n",
       "      <th>relationship</th>\n",
       "      <th>race</th>\n",
       "      <th>sex</th>\n",
       "      <th>capital-gain</th>\n",
       "      <th>capital-loss</th>\n",
       "      <th>hours-per-week</th>\n",
       "      <th>native-country</th>\n",
       "      <th>income</th>\n",
       "    </tr>\n",
       "  </thead>\n",
       "  <tbody>\n",
       "    <tr>\n",
       "      <th>222</th>\n",
       "      <td>91.0</td>\n",
       "      <td>Private</td>\n",
       "      <td>HS-grad</td>\n",
       "      <td>9</td>\n",
       "      <td>Never-married</td>\n",
       "      <td>Other-service</td>\n",
       "      <td>Not-in-family</td>\n",
       "      <td>Black</td>\n",
       "      <td>Male</td>\n",
       "      <td>0</td>\n",
       "      <td>2206</td>\n",
       "      <td>40</td>\n",
       "      <td>United-States</td>\n",
       "      <td>&lt;=50K</td>\n",
       "    </tr>\n",
       "    <tr>\n",
       "      <th>5272</th>\n",
       "      <td>94.0</td>\n",
       "      <td>Private</td>\n",
       "      <td>High-school</td>\n",
       "      <td>5</td>\n",
       "      <td>Never-married</td>\n",
       "      <td>Adm-clerical</td>\n",
       "      <td>Not-in-family</td>\n",
       "      <td>White</td>\n",
       "      <td>Female</td>\n",
       "      <td>0</td>\n",
       "      <td>0</td>\n",
       "      <td>40</td>\n",
       "      <td>United-States</td>\n",
       "      <td>&lt;=50K</td>\n",
       "    </tr>\n",
       "    <tr>\n",
       "      <th>32277</th>\n",
       "      <td>91.0</td>\n",
       "      <td>Private</td>\n",
       "      <td>HS-grad</td>\n",
       "      <td>9</td>\n",
       "      <td>Widowed</td>\n",
       "      <td>Adm-clerical</td>\n",
       "      <td>Unmarried</td>\n",
       "      <td>White</td>\n",
       "      <td>Female</td>\n",
       "      <td>0</td>\n",
       "      <td>0</td>\n",
       "      <td>25</td>\n",
       "      <td>United-States</td>\n",
       "      <td>&lt;=50K</td>\n",
       "    </tr>\n",
       "    <tr>\n",
       "      <th>32367</th>\n",
       "      <td>93.0</td>\n",
       "      <td>Local-gov</td>\n",
       "      <td>Elem-school</td>\n",
       "      <td>4</td>\n",
       "      <td>Married-civ-spouse</td>\n",
       "      <td>Protective-serv</td>\n",
       "      <td>Husband</td>\n",
       "      <td>White</td>\n",
       "      <td>Male</td>\n",
       "      <td>2653</td>\n",
       "      <td>0</td>\n",
       "      <td>40</td>\n",
       "      <td>United-States</td>\n",
       "      <td>&lt;=50K</td>\n",
       "    </tr>\n",
       "  </tbody>\n",
       "</table>\n",
       "</div>"
      ],
      "text/plain": [
       "        age  workclass    education  education-num      marital-status  \\\n",
       "222    91.0    Private      HS-grad              9       Never-married   \n",
       "5272   94.0    Private  High-school              5       Never-married   \n",
       "32277  91.0    Private      HS-grad              9             Widowed   \n",
       "32367  93.0  Local-gov  Elem-school              4  Married-civ-spouse   \n",
       "\n",
       "            occupation   relationship   race     sex  capital-gain  \\\n",
       "222      Other-service  Not-in-family  Black    Male             0   \n",
       "5272      Adm-clerical  Not-in-family  White  Female             0   \n",
       "32277     Adm-clerical      Unmarried  White  Female             0   \n",
       "32367  Protective-serv        Husband  White    Male          2653   \n",
       "\n",
       "       capital-loss  hours-per-week native-country income  \n",
       "222            2206              40  United-States  <=50K  \n",
       "5272              0              40  United-States  <=50K  \n",
       "32277             0              25  United-States  <=50K  \n",
       "32367             0              40  United-States  <=50K  "
      ]
     },
     "execution_count": 94,
     "metadata": {},
     "output_type": "execute_result"
    }
   ],
   "source": [
    "# your code goes here\n",
    "adult_data[adult_data[\"age\"] > 90]"
   ]
  },
  {
   "cell_type": "markdown",
   "metadata": {},
   "source": [
    "Q9. Create a scatter plot between `age` and `hours-per-week` **for only the first 100 datapoints in the dataset.**  \n",
    "Place `age` on the X axis. Color each datapoint according to their income - one color for those that make <=50K, and another color for those that make >50K.\n",
    "\n",
    "Answer as a comment: What observations or insights can you make by looking at this plot?"
   ]
  },
  {
   "cell_type": "code",
   "execution_count": 96,
   "metadata": {},
   "outputs": [
    {
     "data": {
      "image/png": "[encoded data removed]",
      "text/plain": [
       "<Figure size 640x480 with 1 Axes>"
      ]
     },
     "metadata": {},
     "output_type": "display_data"
    }
   ],
   "source": [
    "# your code goes here\n",
    "plt.scatter(adult_data[\"age\"][:100], adult_data[\"hours-per-week\"][:100])\n",
    "plt.xlabel(\"Age\")\n",
    "plt.ylabel(\"Hours Per Week\")\n",
    "plt.title(\"Age vs Hours Per Week\")\n",
    "plt.show()"
   ]
  },
  {
   "cell_type": "markdown",
   "metadata": {},
   "source": [
    "Q10. Feature engineering: Using the dictionary provided below, create a new column called `continent` using the existing `native-country` column in the dataframe. You may want to look at the `map()` method for Series [here](https://pandas.pydata.org/docs/reference/api/pandas.Series.map.html). Display the head of the new dataframe."
   ]
  },
  {
   "cell_type": "code",
   "execution_count": 98,
   "metadata": {},
   "outputs": [],
   "source": [
    "# Please don't change this cell!!\n",
    "continent_dict = {\n",
    "    'Cambodia' : 'Asia',\n",
    "    'Canada' : 'North-America',\n",
    "    'China' : 'Asia',\n",
    "    'Columbia' : 'South-America',\n",
    "    'Cuba' : 'North-America',\n",
    "    'Dominican-Republic' : 'North-America',\n",
    "    'Ecuador' : 'South-America',\n",
    "    'El-Salvador' : 'North-America',\n",
    "    'England' : 'Europe',\n",
    "    'France' : 'Europe',\n",
    "    'Germany' : 'Europe',\n",
    "    'Greece' : 'Europe',\n",
    "    'Guatemala' : 'North-America',\n",
    "    'Haiti' : 'North-America',\n",
    "    'Holand-Netherlands' : 'Europe',\n",
    "    'Honduras' : 'North-America',\n",
    "    'Hong' : 'Asia',\n",
    "    'Hungary' : 'Europe',\n",
    "    'India' : 'Asia',\n",
    "    'Iran' : 'Asia',\n",
    "    'Ireland' : 'Europe',\n",
    "    'Italy' : 'Europe',\n",
    "    'Jamaica' : 'North-America',\n",
    "    'Japan' : 'Asia',\n",
    "    'Laos' : 'Asia',\n",
    "    'Mexico' : 'North-America',\n",
    "    'Nicaragua' : 'North-America',\n",
    "    'Outlying-US(Guam-USVI-etc)' : 'North-America',\n",
    "    'Peru' : 'South-America',\n",
    "    'Philippines' : 'Asia',\n",
    "    'Poland' : 'Europe',\n",
    "    'Portugal' : 'Europe',\n",
    "    'Puerto-Rico' : 'North-America',\n",
    "    'Scotland' : 'Europe',\n",
    "    'South' : 'Asia',\n",
    "    'Taiwan' : 'Asia',\n",
    "    'Thailand' : 'Asia',\n",
    "    'Trinadad&Tobago' : 'South-America',\n",
    "    'United-States' : 'North-America',\n",
    "    'Vietnam' : 'Asia',\n",
    "    'Yugoslavia' : 'Europe',\n",
    "}"
   ]
  },
  {
   "cell_type": "code",
   "execution_count": 99,
   "metadata": {},
   "outputs": [
    {
     "data": {
      "text/html": [
       "<div>\n",
       "<style scoped>\n",
       "    .dataframe tbody tr th:only-of-type {\n",
       "        vertical-align: middle;\n",
       "    }\n",
       "\n",
       "    .dataframe tbody tr th {\n",
       "        vertical-align: top;\n",
       "    }\n",
       "\n",
       "    .dataframe thead th {\n",
       "        text-align: right;\n",
       "    }\n",
       "</style>\n",
       "<table border=\"1\" class=\"dataframe\">\n",
       "  <thead>\n",
       "    <tr style=\"text-align: right;\">\n",
       "      <th></th>\n",
       "      <th>age</th>\n",
       "      <th>workclass</th>\n",
       "      <th>education</th>\n",
       "      <th>education-num</th>\n",
       "      <th>marital-status</th>\n",
       "      <th>occupation</th>\n",
       "      <th>relationship</th>\n",
       "      <th>race</th>\n",
       "      <th>sex</th>\n",
       "      <th>capital-gain</th>\n",
       "      <th>capital-loss</th>\n",
       "      <th>hours-per-week</th>\n",
       "      <th>native-country</th>\n",
       "      <th>income</th>\n",
       "      <th>continent</th>\n",
       "    </tr>\n",
       "  </thead>\n",
       "  <tbody>\n",
       "    <tr>\n",
       "      <th>0</th>\n",
       "      <td>39.0</td>\n",
       "      <td>State-gov</td>\n",
       "      <td>Bachelors</td>\n",
       "      <td>13</td>\n",
       "      <td>Never-married</td>\n",
       "      <td>Adm-clerical</td>\n",
       "      <td>Not-in-family</td>\n",
       "      <td>White</td>\n",
       "      <td>Male</td>\n",
       "      <td>2174</td>\n",
       "      <td>0</td>\n",
       "      <td>40</td>\n",
       "      <td>United-States</td>\n",
       "      <td>&lt;=50K</td>\n",
       "      <td>North-America</td>\n",
       "    </tr>\n",
       "    <tr>\n",
       "      <th>1</th>\n",
       "      <td>42.0</td>\n",
       "      <td>Self-emp-not-inc</td>\n",
       "      <td>Bachelors</td>\n",
       "      <td>13</td>\n",
       "      <td>Married-civ-spouse</td>\n",
       "      <td>Exec-managerial</td>\n",
       "      <td>Husband</td>\n",
       "      <td>White</td>\n",
       "      <td>Male</td>\n",
       "      <td>0</td>\n",
       "      <td>0</td>\n",
       "      <td>13</td>\n",
       "      <td>United-States</td>\n",
       "      <td>&lt;=50K</td>\n",
       "      <td>North-America</td>\n",
       "    </tr>\n",
       "    <tr>\n",
       "      <th>2</th>\n",
       "      <td>38.0</td>\n",
       "      <td>Private</td>\n",
       "      <td>HS-grad</td>\n",
       "      <td>9</td>\n",
       "      <td>Divorced</td>\n",
       "      <td>Handlers-cleaners</td>\n",
       "      <td>Not-in-family</td>\n",
       "      <td>White</td>\n",
       "      <td>Male</td>\n",
       "      <td>0</td>\n",
       "      <td>0</td>\n",
       "      <td>40</td>\n",
       "      <td>United-States</td>\n",
       "      <td>&lt;=50K</td>\n",
       "      <td>North-America</td>\n",
       "    </tr>\n",
       "    <tr>\n",
       "      <th>3</th>\n",
       "      <td>53.0</td>\n",
       "      <td>Private</td>\n",
       "      <td>High-school</td>\n",
       "      <td>7</td>\n",
       "      <td>Married-civ-spouse</td>\n",
       "      <td>Handlers-cleaners</td>\n",
       "      <td>Husband</td>\n",
       "      <td>Black</td>\n",
       "      <td>Male</td>\n",
       "      <td>0</td>\n",
       "      <td>0</td>\n",
       "      <td>40</td>\n",
       "      <td>United-States</td>\n",
       "      <td>&lt;=50K</td>\n",
       "      <td>North-America</td>\n",
       "    </tr>\n",
       "    <tr>\n",
       "      <th>4</th>\n",
       "      <td>54.0</td>\n",
       "      <td>NaN</td>\n",
       "      <td>Some-college</td>\n",
       "      <td>10</td>\n",
       "      <td>Married-civ-spouse</td>\n",
       "      <td>NaN</td>\n",
       "      <td>Husband</td>\n",
       "      <td>Asian-Pac-Islander</td>\n",
       "      <td>Male</td>\n",
       "      <td>0</td>\n",
       "      <td>0</td>\n",
       "      <td>60</td>\n",
       "      <td>South</td>\n",
       "      <td>&gt;50K</td>\n",
       "      <td>Asia</td>\n",
       "    </tr>\n",
       "  </tbody>\n",
       "</table>\n",
       "</div>"
      ],
      "text/plain": [
       "    age         workclass     education  education-num      marital-status  \\\n",
       "0  39.0         State-gov     Bachelors             13       Never-married   \n",
       "1  42.0  Self-emp-not-inc     Bachelors             13  Married-civ-spouse   \n",
       "2  38.0           Private       HS-grad              9            Divorced   \n",
       "3  53.0           Private   High-school              7  Married-civ-spouse   \n",
       "4  54.0               NaN  Some-college             10  Married-civ-spouse   \n",
       "\n",
       "          occupation   relationship                race   sex  capital-gain  \\\n",
       "0       Adm-clerical  Not-in-family               White  Male          2174   \n",
       "1    Exec-managerial        Husband               White  Male             0   \n",
       "2  Handlers-cleaners  Not-in-family               White  Male             0   \n",
       "3  Handlers-cleaners        Husband               Black  Male             0   \n",
       "4                NaN        Husband  Asian-Pac-Islander  Male             0   \n",
       "\n",
       "   capital-loss  hours-per-week native-country income      continent  \n",
       "0             0              40  United-States  <=50K  North-America  \n",
       "1             0              13  United-States  <=50K  North-America  \n",
       "2             0              40  United-States  <=50K  North-America  \n",
       "3             0              40  United-States  <=50K  North-America  \n",
       "4             0              60          South   >50K           Asia  "
      ]
     },
     "execution_count": 99,
     "metadata": {},
     "output_type": "execute_result"
    }
   ],
   "source": [
    "# You will want to create a deep copy of the initial dataframe object\n",
    "# so that you can run this cell multiple times without errors.\n",
    "adult_data_copy = adult_data.copy()\n",
    "\n",
    "# add the new column to adult_data_copy\n",
    "# your code goes here\n",
    "adult_data_copy[\"continent\"] = adult_data_copy[\"native-country\"].map(continent_dict)\n",
    "adult_data_copy.head()"
   ]
  },
  {
   "cell_type": "markdown",
   "metadata": {},
   "source": [
    "Q11. Plot a bar graph showing the average age of adults from each continent, and show the standard deviations on the same graph.\n",
    "\n",
    "An example bar plot with standard deviation bars:\n",
    "<img src=\"imgs/screen5.png\" width=200>"
   ]
  },
  {
   "cell_type": "code",
   "execution_count": 106,
   "metadata": {
    "scrolled": true
   },
   "outputs": [
    {
     "data": {
      "text/plain": [
       "<BarContainer object of 4 artists>"
      ]
     },
     "execution_count": 106,
     "metadata": {},
     "output_type": "execute_result"
    },
    {
     "data": {
      "image/png": "[encoded data removed]",
      "text/plain": [
       "<Figure size 640x480 with 1 Axes>"
      ]
     },
     "metadata": {},
     "output_type": "display_data"
    }
   ],
   "source": [
    "# your code goes here\n",
    "# TODO: Unsure if correct\n",
    "average_continent_ages = adult_data_copy.groupby(\"continent\")[\"age\"].mean()\n",
    "plt.bar(average_continent_ages.index, average_continent_ages.values, yerr=adult_data_copy.groupby(\"continent\")[\"age\"].std())"
   ]
  },
  {
   "cell_type": "markdown",
   "metadata": {},
   "source": [
    "Q12. To reduce the dimensionality of this dataset via feature selection, which attribute or attributes would you eliminate? Explain why as a comment."
   ]
  },
  {
   "cell_type": "code",
   "execution_count": null,
   "metadata": {
    "scrolled": true
   },
   "outputs": [],
   "source": [
    "'''Explain here (as a comment):\n",
    "The capital-gain column has a lot of outliers, since most of the data is 0. I\n",
    "would remove that column.\n",
    "'''"
   ]
  },
  {
   "cell_type": "markdown",
   "metadata": {},
   "source": [
    "## Part 2: Data Scaling and Dimensionality Reduction\n",
    "\n",
    "For this part you'll be using a subset of the leaf dataset created by professors from University of Porto, Portugal. This dataset consists in a collection of shape and texture features extracted from digital images of leaf specimens originating from a total of 40 different plant species, but for the purpose of this assignment we're only going to consider 4 plant species.\n",
    "\n",
    "<img src=\"imgs/screen4.png\">"
   ]
  },
  {
   "cell_type": "markdown",
   "metadata": {},
   "source": [
    "Q13. Read the dataset from `leaf.csv` into a dataframe. Display the head of the dataframe."
   ]
  },
  {
   "cell_type": "code",
   "execution_count": 5,
   "metadata": {
    "scrolled": true
   },
   "outputs": [],
   "source": [
    "# your code goes here\n",
    "leaf_data = pd.read_csv(\"leaf.csv\")"
   ]
  },
  {
   "cell_type": "markdown",
   "metadata": {},
   "source": [
    "Q14. Eccentricity of the leaf is a measure of how much the shape of the leaf varies from a perfect circle. Unfortunately the dataset is missing values in the `eccentricity` column. As a comment, explain how you would handle these missing values, then go ahead and handle them (in code). Display the resulting head of the dataframe."
   ]
  },
  {
   "cell_type": "code",
   "execution_count": 6,
   "metadata": {
    "scrolled": true
   },
   "outputs": [
    {
     "data": {
      "image/png": "[encoded data removed]",
      "text/plain": [
       "<Figure size 640x480 with 1 Axes>"
      ]
     },
     "metadata": {},
     "output_type": "display_data"
    },
    {
     "data": {
      "text/html": [
       "<div>\n",
       "<style scoped>\n",
       "    .dataframe tbody tr th:only-of-type {\n",
       "        vertical-align: middle;\n",
       "    }\n",
       "\n",
       "    .dataframe tbody tr th {\n",
       "        vertical-align: top;\n",
       "    }\n",
       "\n",
       "    .dataframe thead th {\n",
       "        text-align: right;\n",
       "    }\n",
       "</style>\n",
       "<table border=\"1\" class=\"dataframe\">\n",
       "  <thead>\n",
       "    <tr style=\"text-align: right;\">\n",
       "      <th></th>\n",
       "      <th>class</th>\n",
       "      <th>eccentricity</th>\n",
       "      <th>aspect-ratio</th>\n",
       "      <th>elongation</th>\n",
       "      <th>solidity</th>\n",
       "      <th>stochastic-convexity</th>\n",
       "      <th>isoperimetric-factor</th>\n",
       "      <th>maximal-indentation-depth</th>\n",
       "      <th>lobedness</th>\n",
       "      <th>average-intensity</th>\n",
       "      <th>average-contrast</th>\n",
       "      <th>smoothness</th>\n",
       "      <th>third-moment</th>\n",
       "      <th>uniformity</th>\n",
       "      <th>entropy</th>\n",
       "    </tr>\n",
       "  </thead>\n",
       "  <tbody>\n",
       "    <tr>\n",
       "      <th>0</th>\n",
       "      <td>1</td>\n",
       "      <td>NaN</td>\n",
       "      <td>1.0118</td>\n",
       "      <td>0.63010</td>\n",
       "      <td>0.57134</td>\n",
       "      <td>0.81053</td>\n",
       "      <td>0.16187</td>\n",
       "      <td>0.111150</td>\n",
       "      <td>2.248600</td>\n",
       "      <td>0.027309</td>\n",
       "      <td>0.088889</td>\n",
       "      <td>0.007839</td>\n",
       "      <td>0.002273</td>\n",
       "      <td>0.000175</td>\n",
       "      <td>0.86000</td>\n",
       "    </tr>\n",
       "    <tr>\n",
       "      <th>1</th>\n",
       "      <td>4</td>\n",
       "      <td>0.99512</td>\n",
       "      <td>10.3770</td>\n",
       "      <td>0.90564</td>\n",
       "      <td>0.92135</td>\n",
       "      <td>0.99825</td>\n",
       "      <td>0.17941</td>\n",
       "      <td>0.016647</td>\n",
       "      <td>0.050433</td>\n",
       "      <td>0.020400</td>\n",
       "      <td>0.071662</td>\n",
       "      <td>0.005109</td>\n",
       "      <td>0.001266</td>\n",
       "      <td>0.000170</td>\n",
       "      <td>0.71514</td>\n",
       "    </tr>\n",
       "    <tr>\n",
       "      <th>2</th>\n",
       "      <td>3</td>\n",
       "      <td>0.19287</td>\n",
       "      <td>1.0551</td>\n",
       "      <td>0.25044</td>\n",
       "      <td>0.93641</td>\n",
       "      <td>0.99474</td>\n",
       "      <td>0.47284</td>\n",
       "      <td>0.019693</td>\n",
       "      <td>0.070581</td>\n",
       "      <td>0.055935</td>\n",
       "      <td>0.130300</td>\n",
       "      <td>0.016694</td>\n",
       "      <td>0.004583</td>\n",
       "      <td>0.000440</td>\n",
       "      <td>1.41110</td>\n",
       "    </tr>\n",
       "    <tr>\n",
       "      <th>3</th>\n",
       "      <td>1</td>\n",
       "      <td>0.52212</td>\n",
       "      <td>1.1191</td>\n",
       "      <td>0.70988</td>\n",
       "      <td>0.50678</td>\n",
       "      <td>0.64912</td>\n",
       "      <td>0.14120</td>\n",
       "      <td>0.131920</td>\n",
       "      <td>3.167400</td>\n",
       "      <td>0.025478</td>\n",
       "      <td>0.085964</td>\n",
       "      <td>0.007336</td>\n",
       "      <td>0.002179</td>\n",
       "      <td>0.000149</td>\n",
       "      <td>0.82809</td>\n",
       "    </tr>\n",
       "    <tr>\n",
       "      <th>4</th>\n",
       "      <td>3</td>\n",
       "      <td>0.33254</td>\n",
       "      <td>1.1208</td>\n",
       "      <td>0.27473</td>\n",
       "      <td>0.93625</td>\n",
       "      <td>0.99474</td>\n",
       "      <td>0.49836</td>\n",
       "      <td>0.024394</td>\n",
       "      <td>0.108300</td>\n",
       "      <td>0.108090</td>\n",
       "      <td>0.168820</td>\n",
       "      <td>0.027709</td>\n",
       "      <td>0.005981</td>\n",
       "      <td>0.001234</td>\n",
       "      <td>2.48660</td>\n",
       "    </tr>\n",
       "  </tbody>\n",
       "</table>\n",
       "</div>"
      ],
      "text/plain": [
       "   class  eccentricity  aspect-ratio  elongation  solidity  \\\n",
       "0      1           NaN        1.0118     0.63010   0.57134   \n",
       "1      4       0.99512       10.3770     0.90564   0.92135   \n",
       "2      3       0.19287        1.0551     0.25044   0.93641   \n",
       "3      1       0.52212        1.1191     0.70988   0.50678   \n",
       "4      3       0.33254        1.1208     0.27473   0.93625   \n",
       "\n",
       "   stochastic-convexity  isoperimetric-factor  maximal-indentation-depth  \\\n",
       "0               0.81053               0.16187                   0.111150   \n",
       "1               0.99825               0.17941                   0.016647   \n",
       "2               0.99474               0.47284                   0.019693   \n",
       "3               0.64912               0.14120                   0.131920   \n",
       "4               0.99474               0.49836                   0.024394   \n",
       "\n",
       "   lobedness  average-intensity  average-contrast  smoothness  third-moment  \\\n",
       "0   2.248600           0.027309          0.088889    0.007839      0.002273   \n",
       "1   0.050433           0.020400          0.071662    0.005109      0.001266   \n",
       "2   0.070581           0.055935          0.130300    0.016694      0.004583   \n",
       "3   3.167400           0.025478          0.085964    0.007336      0.002179   \n",
       "4   0.108300           0.108090          0.168820    0.027709      0.005981   \n",
       "\n",
       "   uniformity  entropy  \n",
       "0    0.000175  0.86000  \n",
       "1    0.000170  0.71514  \n",
       "2    0.000440  1.41110  \n",
       "3    0.000149  0.82809  \n",
       "4    0.001234  2.48660  "
      ]
     },
     "execution_count": 6,
     "metadata": {},
     "output_type": "execute_result"
    }
   ],
   "source": [
    "# your code goes here\n",
    "plt.plot(leaf_data[\"eccentricity\"])\n",
    "plt.show()\n",
    "leaf_data.head()"
   ]
  },
  {
   "cell_type": "markdown",
   "metadata": {},
   "source": [
    "Q15. Data scaling: Standardize the features in the `leaf_data` dataset so that all of the features are on the same scale.\n",
    "\n",
    "* Use `sklearn.preprocessing.StandardScaler` to standardize the dataset’s features. Call `.fit_transform` to calculate the scaled data (fit) and replace the existing data with the scaled data (transform).\n",
    "* Note that `fit_transform` returns a numpy array. Put your scaled data back into a DataFrame by doing something like this (subsitute your variable names): `scaled_data = DataFrame(numpy_array_data, columns=leaf_data.columns)`\n",
    "* Display something to show that the data has been scaled correctly (the head of the data frame, *and/or* the mean of each column which should be ~0, *and/or* the standard deviation of each column which should be ~1.)"
   ]
  },
  {
   "cell_type": "code",
   "execution_count": 17,
   "metadata": {},
   "outputs": [
    {
     "data": {
      "text/html": [
       "<div>\n",
       "<style scoped>\n",
       "    .dataframe tbody tr th:only-of-type {\n",
       "        vertical-align: middle;\n",
       "    }\n",
       "\n",
       "    .dataframe tbody tr th {\n",
       "        vertical-align: top;\n",
       "    }\n",
       "\n",
       "    .dataframe thead th {\n",
       "        text-align: right;\n",
       "    }\n",
       "</style>\n",
       "<table border=\"1\" class=\"dataframe\">\n",
       "  <thead>\n",
       "    <tr style=\"text-align: right;\">\n",
       "      <th></th>\n",
       "      <th>0</th>\n",
       "      <th>1</th>\n",
       "      <th>2</th>\n",
       "      <th>3</th>\n",
       "      <th>4</th>\n",
       "      <th>5</th>\n",
       "      <th>6</th>\n",
       "      <th>7</th>\n",
       "      <th>8</th>\n",
       "      <th>9</th>\n",
       "      <th>10</th>\n",
       "      <th>11</th>\n",
       "      <th>12</th>\n",
       "      <th>13</th>\n",
       "      <th>14</th>\n",
       "    </tr>\n",
       "  </thead>\n",
       "  <tbody>\n",
       "    <tr>\n",
       "      <th>count</th>\n",
       "      <td>5.200000e+01</td>\n",
       "      <td>4.700000e+01</td>\n",
       "      <td>5.200000e+01</td>\n",
       "      <td>5.200000e+01</td>\n",
       "      <td>5.200000e+01</td>\n",
       "      <td>5.200000e+01</td>\n",
       "      <td>5.200000e+01</td>\n",
       "      <td>5.200000e+01</td>\n",
       "      <td>5.200000e+01</td>\n",
       "      <td>5.200000e+01</td>\n",
       "      <td>5.200000e+01</td>\n",
       "      <td>5.200000e+01</td>\n",
       "      <td>5.200000e+01</td>\n",
       "      <td>5.200000e+01</td>\n",
       "      <td>5.200000e+01</td>\n",
       "    </tr>\n",
       "    <tr>\n",
       "      <th>mean</th>\n",
       "      <td>-4.483593e-17</td>\n",
       "      <td>-1.925174e-16</td>\n",
       "      <td>-5.337611e-18</td>\n",
       "      <td>3.095814e-16</td>\n",
       "      <td>7.301851e-16</td>\n",
       "      <td>5.316260e-16</td>\n",
       "      <td>1.313052e-16</td>\n",
       "      <td>1.558582e-16</td>\n",
       "      <td>1.067522e-16</td>\n",
       "      <td>-2.049643e-16</td>\n",
       "      <td>-4.611696e-16</td>\n",
       "      <td>4.270089e-17</td>\n",
       "      <td>-1.195625e-16</td>\n",
       "      <td>3.416071e-17</td>\n",
       "      <td>-3.416071e-17</td>\n",
       "    </tr>\n",
       "    <tr>\n",
       "      <th>std</th>\n",
       "      <td>1.009756e+00</td>\n",
       "      <td>1.010811e+00</td>\n",
       "      <td>1.009756e+00</td>\n",
       "      <td>1.009756e+00</td>\n",
       "      <td>1.009756e+00</td>\n",
       "      <td>1.009756e+00</td>\n",
       "      <td>1.009756e+00</td>\n",
       "      <td>1.009756e+00</td>\n",
       "      <td>1.009756e+00</td>\n",
       "      <td>1.009756e+00</td>\n",
       "      <td>1.009756e+00</td>\n",
       "      <td>1.009756e+00</td>\n",
       "      <td>1.009756e+00</td>\n",
       "      <td>1.009756e+00</td>\n",
       "      <td>1.009756e+00</td>\n",
       "    </tr>\n",
       "    <tr>\n",
       "      <th>min</th>\n",
       "      <td>-1.196975e+00</td>\n",
       "      <td>-1.783347e+00</td>\n",
       "      <td>-5.311962e-01</td>\n",
       "      <td>-1.294052e+00</td>\n",
       "      <td>-1.709808e+00</td>\n",
       "      <td>-2.374230e+00</td>\n",
       "      <td>-1.161357e+00</td>\n",
       "      <td>-9.163208e-01</td>\n",
       "      <td>-7.173453e-01</td>\n",
       "      <td>-9.897725e-01</td>\n",
       "      <td>-1.465899e+00</td>\n",
       "      <td>-1.033102e+00</td>\n",
       "      <td>-1.181420e+00</td>\n",
       "      <td>-7.477159e-01</td>\n",
       "      <td>-1.328653e+00</td>\n",
       "    </tr>\n",
       "    <tr>\n",
       "      <th>25%</th>\n",
       "      <td>-1.196975e+00</td>\n",
       "      <td>-6.890206e-01</td>\n",
       "      <td>-5.107431e-01</td>\n",
       "      <td>-9.828770e-01</td>\n",
       "      <td>-1.290670e+00</td>\n",
       "      <td>-7.003265e-01</td>\n",
       "      <td>-8.955253e-01</td>\n",
       "      <td>-7.309311e-01</td>\n",
       "      <td>-6.866341e-01</td>\n",
       "      <td>-5.801078e-01</td>\n",
       "      <td>-6.958099e-01</td>\n",
       "      <td>-6.512935e-01</td>\n",
       "      <td>-7.285392e-01</td>\n",
       "      <td>-5.740442e-01</td>\n",
       "      <td>-6.164975e-01</td>\n",
       "    </tr>\n",
       "    <tr>\n",
       "      <th>50%</th>\n",
       "      <td>-3.077935e-01</td>\n",
       "      <td>-2.179704e-01</td>\n",
       "      <td>-4.919593e-01</td>\n",
       "      <td>2.954545e-01</td>\n",
       "      <td>6.051952e-01</td>\n",
       "      <td>6.388299e-01</td>\n",
       "      <td>-6.918154e-01</td>\n",
       "      <td>-5.936111e-01</td>\n",
       "      <td>-6.488859e-01</td>\n",
       "      <td>-3.477442e-01</td>\n",
       "      <td>-3.008438e-01</td>\n",
       "      <td>-3.836834e-01</td>\n",
       "      <td>-3.575189e-01</td>\n",
       "      <td>-4.664657e-01</td>\n",
       "      <td>-3.267214e-01</td>\n",
       "    </tr>\n",
       "    <tr>\n",
       "      <th>75%</th>\n",
       "      <td>5.813877e-01</td>\n",
       "      <td>3.166426e-01</td>\n",
       "      <td>-4.338434e-01</td>\n",
       "      <td>6.191808e-01</td>\n",
       "      <td>7.184381e-01</td>\n",
       "      <td>6.955393e-01</td>\n",
       "      <td>9.908940e-01</td>\n",
       "      <td>1.282551e+00</td>\n",
       "      <td>1.146930e+00</td>\n",
       "      <td>3.202602e-01</td>\n",
       "      <td>6.347915e-01</td>\n",
       "      <td>4.391088e-01</td>\n",
       "      <td>3.537397e-01</td>\n",
       "      <td>1.671184e-02</td>\n",
       "      <td>4.204347e-01</td>\n",
       "    </tr>\n",
       "    <tr>\n",
       "      <th>max</th>\n",
       "      <td>1.470569e+00</td>\n",
       "      <td>1.707088e+00</td>\n",
       "      <td>3.277599e+00</td>\n",
       "      <td>1.575176e+00</td>\n",
       "      <td>8.818000e-01</td>\n",
       "      <td>7.252251e-01</td>\n",
       "      <td>1.659464e+00</td>\n",
       "      <td>1.949107e+00</td>\n",
       "      <td>2.358346e+00</td>\n",
       "      <td>3.465257e+00</td>\n",
       "      <td>2.817219e+00</td>\n",
       "      <td>3.325973e+00</td>\n",
       "      <td>2.870640e+00</td>\n",
       "      <td>3.575237e+00</td>\n",
       "      <td>3.183163e+00</td>\n",
       "    </tr>\n",
       "  </tbody>\n",
       "</table>\n",
       "</div>"
      ],
      "text/plain": [
       "                 0             1             2             3             4   \\\n",
       "count  5.200000e+01  4.700000e+01  5.200000e+01  5.200000e+01  5.200000e+01   \n",
       "mean  -4.483593e-17 -1.925174e-16 -5.337611e-18  3.095814e-16  7.301851e-16   \n",
       "std    1.009756e+00  1.010811e+00  1.009756e+00  1.009756e+00  1.009756e+00   \n",
       "min   -1.196975e+00 -1.783347e+00 -5.311962e-01 -1.294052e+00 -1.709808e+00   \n",
       "25%   -1.196975e+00 -6.890206e-01 -5.107431e-01 -9.828770e-01 -1.290670e+00   \n",
       "50%   -3.077935e-01 -2.179704e-01 -4.919593e-01  2.954545e-01  6.051952e-01   \n",
       "75%    5.813877e-01  3.166426e-01 -4.338434e-01  6.191808e-01  7.184381e-01   \n",
       "max    1.470569e+00  1.707088e+00  3.277599e+00  1.575176e+00  8.818000e-01   \n",
       "\n",
       "                 5             6             7             8             9   \\\n",
       "count  5.200000e+01  5.200000e+01  5.200000e+01  5.200000e+01  5.200000e+01   \n",
       "mean   5.316260e-16  1.313052e-16  1.558582e-16  1.067522e-16 -2.049643e-16   \n",
       "std    1.009756e+00  1.009756e+00  1.009756e+00  1.009756e+00  1.009756e+00   \n",
       "min   -2.374230e+00 -1.161357e+00 -9.163208e-01 -7.173453e-01 -9.897725e-01   \n",
       "25%   -7.003265e-01 -8.955253e-01 -7.309311e-01 -6.866341e-01 -5.801078e-01   \n",
       "50%    6.388299e-01 -6.918154e-01 -5.936111e-01 -6.488859e-01 -3.477442e-01   \n",
       "75%    6.955393e-01  9.908940e-01  1.282551e+00  1.146930e+00  3.202602e-01   \n",
       "max    7.252251e-01  1.659464e+00  1.949107e+00  2.358346e+00  3.465257e+00   \n",
       "\n",
       "                 10            11            12            13            14  \n",
       "count  5.200000e+01  5.200000e+01  5.200000e+01  5.200000e+01  5.200000e+01  \n",
       "mean  -4.611696e-16  4.270089e-17 -1.195625e-16  3.416071e-17 -3.416071e-17  \n",
       "std    1.009756e+00  1.009756e+00  1.009756e+00  1.009756e+00  1.009756e+00  \n",
       "min   -1.465899e+00 -1.033102e+00 -1.181420e+00 -7.477159e-01 -1.328653e+00  \n",
       "25%   -6.958099e-01 -6.512935e-01 -7.285392e-01 -5.740442e-01 -6.164975e-01  \n",
       "50%   -3.008438e-01 -3.836834e-01 -3.575189e-01 -4.664657e-01 -3.267214e-01  \n",
       "75%    6.347915e-01  4.391088e-01  3.537397e-01  1.671184e-02  4.204347e-01  \n",
       "max    2.817219e+00  3.325973e+00  2.870640e+00  3.575237e+00  3.183163e+00  "
      ]
     },
     "execution_count": 17,
     "metadata": {},
     "output_type": "execute_result"
    }
   ],
   "source": [
    "# your code goes here\n",
    "standard_scaler = StandardScaler()\n",
    "scaled_data = pd.DataFrame(standard_scaler.fit_transform(leaf_data))\n",
    "scaled_data.describe()"
   ]
  },
  {
   "cell_type": "markdown",
   "metadata": {},
   "source": [
    "Q16. Dimensionality reduction using PCA\n",
    "\n",
    "* Use `sklearn.decomposition.PCA` to perform PCA on the **scaled** data.\n",
    "* Set `n_components` to 0.95 and `svd_solver` to 'full', so that the PCA will reduce the number of dimensions to however many dimensions are necessary to retain 95% of the variance. \n",
    "* Use `.fit_transform` to calculate the dimensionality reduction (fit) and to replace the existing data with the transformed data (transform). \n",
    "* Note that `fit_transform` returns a numpy array. Put the transformed data back into a Pandas DataFrame by doing something like this (subsitute your variable names): `pca_data = DataFrame(numpy_array_data)`\n",
    "* Show the head of the resulting DataFrame to make sure the dimensionality has actually been reduced."
   ]
  },
  {
   "cell_type": "code",
   "execution_count": 19,
   "metadata": {
    "scrolled": true
   },
   "outputs": [
    {
     "data": {
      "text/html": [
       "<div>\n",
       "<style scoped>\n",
       "    .dataframe tbody tr th:only-of-type {\n",
       "        vertical-align: middle;\n",
       "    }\n",
       "\n",
       "    .dataframe tbody tr th {\n",
       "        vertical-align: top;\n",
       "    }\n",
       "\n",
       "    .dataframe thead th {\n",
       "        text-align: right;\n",
       "    }\n",
       "</style>\n",
       "<table border=\"1\" class=\"dataframe\">\n",
       "  <thead>\n",
       "    <tr style=\"text-align: right;\">\n",
       "      <th></th>\n",
       "      <th>0</th>\n",
       "      <th>1</th>\n",
       "      <th>2</th>\n",
       "    </tr>\n",
       "  </thead>\n",
       "  <tbody>\n",
       "    <tr>\n",
       "      <th>0</th>\n",
       "      <td>-1.994361</td>\n",
       "      <td>-1.601332</td>\n",
       "      <td>0.125248</td>\n",
       "    </tr>\n",
       "    <tr>\n",
       "      <th>1</th>\n",
       "      <td>-1.032208</td>\n",
       "      <td>2.798623</td>\n",
       "      <td>-1.435106</td>\n",
       "    </tr>\n",
       "    <tr>\n",
       "      <th>2</th>\n",
       "      <td>2.268923</td>\n",
       "      <td>0.180241</td>\n",
       "      <td>0.161321</td>\n",
       "    </tr>\n",
       "    <tr>\n",
       "      <th>3</th>\n",
       "      <td>-2.806631</td>\n",
       "      <td>-2.338643</td>\n",
       "      <td>-0.141033</td>\n",
       "    </tr>\n",
       "    <tr>\n",
       "      <th>4</th>\n",
       "      <td>4.785247</td>\n",
       "      <td>-1.397815</td>\n",
       "      <td>-1.093469</td>\n",
       "    </tr>\n",
       "  </tbody>\n",
       "</table>\n",
       "</div>"
      ],
      "text/plain": [
       "          0         1         2\n",
       "0 -1.994361 -1.601332  0.125248\n",
       "1 -1.032208  2.798623 -1.435106\n",
       "2  2.268923  0.180241  0.161321\n",
       "3 -2.806631 -2.338643 -0.141033\n",
       "4  4.785247 -1.397815 -1.093469"
      ]
     },
     "execution_count": 19,
     "metadata": {},
     "output_type": "execute_result"
    }
   ],
   "source": [
    "# your code goes here\n",
    "pca = PCA(n_components=0.95, svd_solver='full')\n",
    "scaled_data_no_nan = scaled_data.dropna(axis=1)\n",
    "pca_data = pd.DataFrame(pca.fit_transform(scaled_data_no_nan))\n",
    "pca_data.head()"
   ]
  }
 ],
 "metadata": {
  "kernelspec": {
   "display_name": "Python 3 (ipykernel)",
   "language": "python",
   "name": "python3"
  },
  "language_info": {
   "codemirror_mode": {
    "name": "ipython",
    "version": 3
   },
   "file_extension": ".py",
   "mimetype": "text/x-python",
   "name": "python",
   "nbconvert_exporter": "python",
   "pygments_lexer": "ipython3",
   "version": "3.11.5"
  }
 },
 "nbformat": 4,
 "nbformat_minor": 2
}
